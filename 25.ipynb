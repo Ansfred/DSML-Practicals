{
 "cells": [
  {
   "cell_type": "code",
   "execution_count": 1,
   "id": "ff7a957f",
   "metadata": {
    "_cell_guid": "b1076dfc-b9ad-4769-8c92-a6c4dae69d19",
    "_uuid": "8f2839f25d086af736a60e9eeb907d3b93b6e0e5",
    "execution": {
     "iopub.execute_input": "2022-12-08T10:04:54.023653Z",
     "iopub.status.busy": "2022-12-08T10:04:54.022829Z",
     "iopub.status.idle": "2022-12-08T10:04:54.166771Z",
     "shell.execute_reply": "2022-12-08T10:04:54.165618Z"
    },
    "papermill": {
     "duration": 0.153136,
     "end_time": "2022-12-08T10:04:54.170257",
     "exception": false,
     "start_time": "2022-12-08T10:04:54.017121",
     "status": "completed"
    },
    "tags": []
   },
   "outputs": [
    {
     "name": "stdout",
     "output_type": "stream",
     "text": [
      "MOVIES       0.000000\n",
      "YEAR         6.440644\n",
      "GENRE        0.800080\n",
      "RATING      18.201820\n",
      "ONE-LINE     0.000000\n",
      "STARS        0.000000\n",
      "VOTES       18.201820\n",
      "RunTime     29.582958\n",
      "Gross       95.399540\n",
      "dtype: float64\n"
     ]
    }
   ],
   "source": [
    "#Percentage of null values\n",
    "import pandas as pd\n",
    "df = pd.read_csv(\"movies.csv\")\n",
    "percAll = ((df.isnull().sum())/df.shape[0])*100\n",
    "print(percAll)"
   ]
  },
  {
   "cell_type": "code",
   "execution_count": 2,
   "id": "3bbd0b42",
   "metadata": {
    "execution": {
     "iopub.execute_input": "2022-12-08T10:04:54.178982Z",
     "iopub.status.busy": "2022-12-08T10:04:54.178563Z",
     "iopub.status.idle": "2022-12-08T10:04:54.225267Z",
     "shell.execute_reply": "2022-12-08T10:04:54.223917Z"
    },
    "papermill": {
     "duration": 0.053994,
     "end_time": "2022-12-08T10:04:54.228069",
     "exception": false,
     "start_time": "2022-12-08T10:04:54.174075",
     "status": "completed"
    },
    "tags": []
   },
   "outputs": [
    {
     "data": {
      "text/plain": "                                                 MOVIES        YEAR  \\\n77                               The Hitman's Bodyguard      (2017)   \n85                                        Jurassic Park      (1993)   \n95                                        Don't Breathe      (2016)   \n111   The Lord of the Rings: The Fellowship of the Ring      (2001)   \n125                                         Escape Room  (I) (2019)   \n...                                                 ...         ...   \n5750                           Vidal Sassoon: The Movie      (2010)   \n5770                                       Men at Lunch      (2012)   \n5835                                    Decoding Deepak      (2012)   \n6056                                     Theo Who Lived      (2016)   \n6292                                   Southern Justice      (2006)   \n\n                                          GENRE  RATING  \\\n77          \\nAction, Comedy, Crime                 6.9   \n85      \\nAction, Adventure, Sci-Fi                 8.1   \n95        \\nCrime, Horror, Thriller                 7.1   \n111      \\nAction, Adventure, Drama                 8.8   \n125     \\nAction, Adventure, Horror                 6.4   \n...                                         ...     ...   \n5750                  \\nDocumentary                 6.5   \n5770         \\nDocumentary, Mystery                 6.3   \n5835                  \\nDocumentary                 5.5   \n6056                  \\nDocumentary                 6.8   \n6292  \\nAction, Adventure, Thriller                 3.1   \n\n                                               ONE-LINE  \\\n77    \\nThe world's top bodyguard gets a new client,...   \n85    \\nA pragmatic paleontologist visiting an almos...   \n95    \\nHoping to walk away with a massive fortune, ...   \n111   \\nA meek Hobbit from the Shire and eight compa...   \n125   \\nSix strangers find themselves in a maze of d...   \n...                                                 ...   \n5750  \\nVidal Sassoon is more than just a hairdresse...   \n5770  \\nThe story of \"Lunch atop a Skyscraper,\" the ...   \n5835  \\nDeepak Chopra's son, Gotham, spends a year t...   \n6056  \\nA documentary on American journalist Theo Pa...   \n6292  \\nM.D. Selig's feature thriller, SOUTHERN JUST...   \n\n                                                  STARS      VOTES  RunTime  \\\n77    \\n    Director:\\nPatrick Hughes\\n| \\n    Stars...    205,979    118.0   \n85    \\n    Director:\\nSteven Spielberg\\n| \\n    Sta...    897,444    127.0   \n95    \\n    Director:\\nFede Alvarez\\n| \\n    Stars:\\...    237,601     88.0   \n111   \\n    Director:\\nPeter Jackson\\n| \\n    Stars:...  1,713,028    178.0   \n125   \\n    Director:\\nAdam Robitel\\n| \\n    Stars:\\...     99,351     99.0   \n...                                                 ...        ...      ...   \n5750  \\n    Director:\\nCraig Teper\\n| \\n    Stars:\\n...        245     90.0   \n5770  \\n    Director:\\nSeán Ó Cualáin\\n| \\n    Stars...        331     75.0   \n5835  \\n    Director:\\nGotham Chopra\\n| \\n    Stars:...        124     83.0   \n6056  \\n    Director:\\nDavid Schisgall\\n| \\n    Star...        111     86.0   \n6292  \\n    Director:\\nM.D. Selig\\n| \\n    Stars:\\nM...        126     96.0   \n\n         Gross  \n77     $75.47M  \n85    $402.45M  \n95     $89.22M  \n111   $315.54M  \n125    $57.01M  \n...        ...  \n5750    $0.09M  \n5770    $0.00M  \n5835    $0.01M  \n6056    $0.01M  \n6292    $0.14M  \n\n[460 rows x 9 columns]",
      "text/html": "<div>\n<style scoped>\n    .dataframe tbody tr th:only-of-type {\n        vertical-align: middle;\n    }\n\n    .dataframe tbody tr th {\n        vertical-align: top;\n    }\n\n    .dataframe thead th {\n        text-align: right;\n    }\n</style>\n<table border=\"1\" class=\"dataframe\">\n  <thead>\n    <tr style=\"text-align: right;\">\n      <th></th>\n      <th>MOVIES</th>\n      <th>YEAR</th>\n      <th>GENRE</th>\n      <th>RATING</th>\n      <th>ONE-LINE</th>\n      <th>STARS</th>\n      <th>VOTES</th>\n      <th>RunTime</th>\n      <th>Gross</th>\n    </tr>\n  </thead>\n  <tbody>\n    <tr>\n      <th>77</th>\n      <td>The Hitman's Bodyguard</td>\n      <td>(2017)</td>\n      <td>\\nAction, Comedy, Crime</td>\n      <td>6.9</td>\n      <td>\\nThe world's top bodyguard gets a new client,...</td>\n      <td>\\n    Director:\\nPatrick Hughes\\n| \\n    Stars...</td>\n      <td>205,979</td>\n      <td>118.0</td>\n      <td>$75.47M</td>\n    </tr>\n    <tr>\n      <th>85</th>\n      <td>Jurassic Park</td>\n      <td>(1993)</td>\n      <td>\\nAction, Adventure, Sci-Fi</td>\n      <td>8.1</td>\n      <td>\\nA pragmatic paleontologist visiting an almos...</td>\n      <td>\\n    Director:\\nSteven Spielberg\\n| \\n    Sta...</td>\n      <td>897,444</td>\n      <td>127.0</td>\n      <td>$402.45M</td>\n    </tr>\n    <tr>\n      <th>95</th>\n      <td>Don't Breathe</td>\n      <td>(2016)</td>\n      <td>\\nCrime, Horror, Thriller</td>\n      <td>7.1</td>\n      <td>\\nHoping to walk away with a massive fortune, ...</td>\n      <td>\\n    Director:\\nFede Alvarez\\n| \\n    Stars:\\...</td>\n      <td>237,601</td>\n      <td>88.0</td>\n      <td>$89.22M</td>\n    </tr>\n    <tr>\n      <th>111</th>\n      <td>The Lord of the Rings: The Fellowship of the Ring</td>\n      <td>(2001)</td>\n      <td>\\nAction, Adventure, Drama</td>\n      <td>8.8</td>\n      <td>\\nA meek Hobbit from the Shire and eight compa...</td>\n      <td>\\n    Director:\\nPeter Jackson\\n| \\n    Stars:...</td>\n      <td>1,713,028</td>\n      <td>178.0</td>\n      <td>$315.54M</td>\n    </tr>\n    <tr>\n      <th>125</th>\n      <td>Escape Room</td>\n      <td>(I) (2019)</td>\n      <td>\\nAction, Adventure, Horror</td>\n      <td>6.4</td>\n      <td>\\nSix strangers find themselves in a maze of d...</td>\n      <td>\\n    Director:\\nAdam Robitel\\n| \\n    Stars:\\...</td>\n      <td>99,351</td>\n      <td>99.0</td>\n      <td>$57.01M</td>\n    </tr>\n    <tr>\n      <th>...</th>\n      <td>...</td>\n      <td>...</td>\n      <td>...</td>\n      <td>...</td>\n      <td>...</td>\n      <td>...</td>\n      <td>...</td>\n      <td>...</td>\n      <td>...</td>\n    </tr>\n    <tr>\n      <th>5750</th>\n      <td>Vidal Sassoon: The Movie</td>\n      <td>(2010)</td>\n      <td>\\nDocumentary</td>\n      <td>6.5</td>\n      <td>\\nVidal Sassoon is more than just a hairdresse...</td>\n      <td>\\n    Director:\\nCraig Teper\\n| \\n    Stars:\\n...</td>\n      <td>245</td>\n      <td>90.0</td>\n      <td>$0.09M</td>\n    </tr>\n    <tr>\n      <th>5770</th>\n      <td>Men at Lunch</td>\n      <td>(2012)</td>\n      <td>\\nDocumentary, Mystery</td>\n      <td>6.3</td>\n      <td>\\nThe story of \"Lunch atop a Skyscraper,\" the ...</td>\n      <td>\\n    Director:\\nSeán Ó Cualáin\\n| \\n    Stars...</td>\n      <td>331</td>\n      <td>75.0</td>\n      <td>$0.00M</td>\n    </tr>\n    <tr>\n      <th>5835</th>\n      <td>Decoding Deepak</td>\n      <td>(2012)</td>\n      <td>\\nDocumentary</td>\n      <td>5.5</td>\n      <td>\\nDeepak Chopra's son, Gotham, spends a year t...</td>\n      <td>\\n    Director:\\nGotham Chopra\\n| \\n    Stars:...</td>\n      <td>124</td>\n      <td>83.0</td>\n      <td>$0.01M</td>\n    </tr>\n    <tr>\n      <th>6056</th>\n      <td>Theo Who Lived</td>\n      <td>(2016)</td>\n      <td>\\nDocumentary</td>\n      <td>6.8</td>\n      <td>\\nA documentary on American journalist Theo Pa...</td>\n      <td>\\n    Director:\\nDavid Schisgall\\n| \\n    Star...</td>\n      <td>111</td>\n      <td>86.0</td>\n      <td>$0.01M</td>\n    </tr>\n    <tr>\n      <th>6292</th>\n      <td>Southern Justice</td>\n      <td>(2006)</td>\n      <td>\\nAction, Adventure, Thriller</td>\n      <td>3.1</td>\n      <td>\\nM.D. Selig's feature thriller, SOUTHERN JUST...</td>\n      <td>\\n    Director:\\nM.D. Selig\\n| \\n    Stars:\\nM...</td>\n      <td>126</td>\n      <td>96.0</td>\n      <td>$0.14M</td>\n    </tr>\n  </tbody>\n</table>\n<p>460 rows × 9 columns</p>\n</div>"
     },
     "execution_count": 2,
     "metadata": {},
     "output_type": "execute_result"
    }
   ],
   "source": [
    "#Remove all rows with missing values\n",
    "\n",
    "rdf = df.dropna(axis=0)\n",
    "rdf"
   ]
  },
  {
   "cell_type": "code",
   "execution_count": 3,
   "id": "e4d0d991",
   "metadata": {
    "execution": {
     "iopub.execute_input": "2022-12-08T10:04:54.236199Z",
     "iopub.status.busy": "2022-12-08T10:04:54.235830Z",
     "iopub.status.idle": "2022-12-08T10:04:54.262543Z",
     "shell.execute_reply": "2022-12-08T10:04:54.261313Z"
    },
    "papermill": {
     "duration": 0.033728,
     "end_time": "2022-12-08T10:04:54.265086",
     "exception": false,
     "start_time": "2022-12-08T10:04:54.231358",
     "status": "completed"
    },
    "tags": []
   },
   "outputs": [
    {
     "data": {
      "text/plain": "                                   MOVIES         YEAR  \\\n0                           Blood Red Sky       (2021)   \n1     Masters of the Universe: Revelation     (2021– )   \n2                        The Walking Dead  (2010–2022)   \n3                          Rick and Morty     (2013– )   \n4                         Army of Thieves       (2021)   \n...                                   ...          ...   \n9994                       The Imperfects     (2021– )   \n9995                               Arcane     (2021– )   \n9996                    Heart of Invictus     (2022– )   \n9997                       The Imperfects     (2021– )   \n9998                       The Imperfects     (2021– )   \n\n                                           GENRE  RATING  \\\n0         \\nAction, Horror, Thriller                 6.1   \n1     \\nAnimation, Action, Adventure                 5.0   \n2          \\nDrama, Horror, Thriller                 8.2   \n3     \\nAnimation, Adventure, Comedy                 9.2   \n4            \\nAction, Crime, Horror                 NaN   \n...                                          ...     ...   \n9994     \\nAdventure, Drama, Fantasy                 NaN   \n9995  \\nAnimation, Action, Adventure                 NaN   \n9996            \\nDocumentary, Sport                 NaN   \n9997     \\nAdventure, Drama, Fantasy                 NaN   \n9998     \\nAdventure, Drama, Fantasy                 NaN   \n\n                                               ONE-LINE  \\\n0     \\nA woman with a mysterious illness is forced ...   \n1     \\nThe war for Eternia begins again in what may...   \n2     \\nSheriff Deputy Rick Grimes wakes up from a c...   \n3     \\nAn animated series that follows the exploits...   \n4     \\nA prequel, set before the events of Army of ...   \n...                                                 ...   \n9994                                     \\nAdd a Plot\\n   \n9995                                     \\nAdd a Plot\\n   \n9996                                     \\nAdd a Plot\\n   \n9997                                     \\nAdd a Plot\\n   \n9998                                     \\nAdd a Plot\\n   \n\n                                                  STARS    VOTES  \n0     \\n    Director:\\nPeter Thorwarth\\n| \\n    Star...   21,062  \n1     \\n            \\n    Stars:\\nChris Wood, \\nSara...   17,870  \n2     \\n            \\n    Stars:\\nAndrew Lincoln, \\n...  885,805  \n3     \\n            \\n    Stars:\\nJustin Roiland, \\n...  414,849  \n4     \\n    Director:\\nMatthias Schweighöfer\\n| \\n  ...      NaN  \n...                                                 ...      ...  \n9994  \\n            \\n    Stars:\\nMorgan Taylor Camp...      NaN  \n9995                                                 \\n      NaN  \n9996  \\n    Director:\\nOrlando von Einsiedel\\n| \\n  ...      NaN  \n9997  \\n    Director:\\nJovanka Vuckovic\\n| \\n    Sta...      NaN  \n9998  \\n    Director:\\nJovanka Vuckovic\\n| \\n    Sta...      NaN  \n\n[9999 rows x 7 columns]",
      "text/html": "<div>\n<style scoped>\n    .dataframe tbody tr th:only-of-type {\n        vertical-align: middle;\n    }\n\n    .dataframe tbody tr th {\n        vertical-align: top;\n    }\n\n    .dataframe thead th {\n        text-align: right;\n    }\n</style>\n<table border=\"1\" class=\"dataframe\">\n  <thead>\n    <tr style=\"text-align: right;\">\n      <th></th>\n      <th>MOVIES</th>\n      <th>YEAR</th>\n      <th>GENRE</th>\n      <th>RATING</th>\n      <th>ONE-LINE</th>\n      <th>STARS</th>\n      <th>VOTES</th>\n    </tr>\n  </thead>\n  <tbody>\n    <tr>\n      <th>0</th>\n      <td>Blood Red Sky</td>\n      <td>(2021)</td>\n      <td>\\nAction, Horror, Thriller</td>\n      <td>6.1</td>\n      <td>\\nA woman with a mysterious illness is forced ...</td>\n      <td>\\n    Director:\\nPeter Thorwarth\\n| \\n    Star...</td>\n      <td>21,062</td>\n    </tr>\n    <tr>\n      <th>1</th>\n      <td>Masters of the Universe: Revelation</td>\n      <td>(2021– )</td>\n      <td>\\nAnimation, Action, Adventure</td>\n      <td>5.0</td>\n      <td>\\nThe war for Eternia begins again in what may...</td>\n      <td>\\n            \\n    Stars:\\nChris Wood, \\nSara...</td>\n      <td>17,870</td>\n    </tr>\n    <tr>\n      <th>2</th>\n      <td>The Walking Dead</td>\n      <td>(2010–2022)</td>\n      <td>\\nDrama, Horror, Thriller</td>\n      <td>8.2</td>\n      <td>\\nSheriff Deputy Rick Grimes wakes up from a c...</td>\n      <td>\\n            \\n    Stars:\\nAndrew Lincoln, \\n...</td>\n      <td>885,805</td>\n    </tr>\n    <tr>\n      <th>3</th>\n      <td>Rick and Morty</td>\n      <td>(2013– )</td>\n      <td>\\nAnimation, Adventure, Comedy</td>\n      <td>9.2</td>\n      <td>\\nAn animated series that follows the exploits...</td>\n      <td>\\n            \\n    Stars:\\nJustin Roiland, \\n...</td>\n      <td>414,849</td>\n    </tr>\n    <tr>\n      <th>4</th>\n      <td>Army of Thieves</td>\n      <td>(2021)</td>\n      <td>\\nAction, Crime, Horror</td>\n      <td>NaN</td>\n      <td>\\nA prequel, set before the events of Army of ...</td>\n      <td>\\n    Director:\\nMatthias Schweighöfer\\n| \\n  ...</td>\n      <td>NaN</td>\n    </tr>\n    <tr>\n      <th>...</th>\n      <td>...</td>\n      <td>...</td>\n      <td>...</td>\n      <td>...</td>\n      <td>...</td>\n      <td>...</td>\n      <td>...</td>\n    </tr>\n    <tr>\n      <th>9994</th>\n      <td>The Imperfects</td>\n      <td>(2021– )</td>\n      <td>\\nAdventure, Drama, Fantasy</td>\n      <td>NaN</td>\n      <td>\\nAdd a Plot\\n</td>\n      <td>\\n            \\n    Stars:\\nMorgan Taylor Camp...</td>\n      <td>NaN</td>\n    </tr>\n    <tr>\n      <th>9995</th>\n      <td>Arcane</td>\n      <td>(2021– )</td>\n      <td>\\nAnimation, Action, Adventure</td>\n      <td>NaN</td>\n      <td>\\nAdd a Plot\\n</td>\n      <td>\\n</td>\n      <td>NaN</td>\n    </tr>\n    <tr>\n      <th>9996</th>\n      <td>Heart of Invictus</td>\n      <td>(2022– )</td>\n      <td>\\nDocumentary, Sport</td>\n      <td>NaN</td>\n      <td>\\nAdd a Plot\\n</td>\n      <td>\\n    Director:\\nOrlando von Einsiedel\\n| \\n  ...</td>\n      <td>NaN</td>\n    </tr>\n    <tr>\n      <th>9997</th>\n      <td>The Imperfects</td>\n      <td>(2021– )</td>\n      <td>\\nAdventure, Drama, Fantasy</td>\n      <td>NaN</td>\n      <td>\\nAdd a Plot\\n</td>\n      <td>\\n    Director:\\nJovanka Vuckovic\\n| \\n    Sta...</td>\n      <td>NaN</td>\n    </tr>\n    <tr>\n      <th>9998</th>\n      <td>The Imperfects</td>\n      <td>(2021– )</td>\n      <td>\\nAdventure, Drama, Fantasy</td>\n      <td>NaN</td>\n      <td>\\nAdd a Plot\\n</td>\n      <td>\\n    Director:\\nJovanka Vuckovic\\n| \\n    Sta...</td>\n      <td>NaN</td>\n    </tr>\n  </tbody>\n</table>\n<p>9999 rows × 7 columns</p>\n</div>"
     },
     "execution_count": 3,
     "metadata": {},
     "output_type": "execute_result"
    }
   ],
   "source": [
    "#Remove all columns with more than 20% missing values\n",
    "\n",
    "col_drop = percAll[percAll>20].keys()\n",
    "cdf = df.drop(col_drop,axis=1)\n",
    "cdf"
   ]
  },
  {
   "cell_type": "code",
   "execution_count": 4,
   "id": "51972b9c",
   "metadata": {
    "execution": {
     "iopub.execute_input": "2022-12-08T10:04:54.274195Z",
     "iopub.status.busy": "2022-12-08T10:04:54.273821Z",
     "iopub.status.idle": "2022-12-08T10:04:54.301706Z",
     "shell.execute_reply": "2022-12-08T10:04:54.300416Z"
    },
    "papermill": {
     "duration": 0.035282,
     "end_time": "2022-12-08T10:04:54.304144",
     "exception": false,
     "start_time": "2022-12-08T10:04:54.268862",
     "status": "completed"
    },
    "tags": []
   },
   "outputs": [
    {
     "data": {
      "text/plain": "                                   MOVIES         YEAR  \\\n0                           Blood Red Sky       (2021)   \n1     Masters of the Universe: Revelation     (2021– )   \n2                        The Walking Dead  (2010–2022)   \n3                          Rick and Morty     (2013– )   \n4                         Army of Thieves       (2021)   \n...                                   ...          ...   \n9994                       The Imperfects     (2021– )   \n9995                               Arcane     (2021– )   \n9996                    Heart of Invictus     (2022– )   \n9997                       The Imperfects     (2021– )   \n9998                       The Imperfects     (2021– )   \n\n                                           GENRE RATING  \\\n0         \\nAction, Horror, Thriller                6.1   \n1     \\nAnimation, Action, Adventure                5.0   \n2          \\nDrama, Horror, Thriller                8.2   \n3     \\nAnimation, Adventure, Comedy                9.2   \n4            \\nAction, Crime, Horror                  9   \n...                                          ...    ...   \n9994     \\nAdventure, Drama, Fantasy                  9   \n9995  \\nAnimation, Action, Adventure                  9   \n9996            \\nDocumentary, Sport                  9   \n9997     \\nAdventure, Drama, Fantasy                  9   \n9998     \\nAdventure, Drama, Fantasy                  9   \n\n                                               ONE-LINE  \\\n0     \\nA woman with a mysterious illness is forced ...   \n1     \\nThe war for Eternia begins again in what may...   \n2     \\nSheriff Deputy Rick Grimes wakes up from a c...   \n3     \\nAn animated series that follows the exploits...   \n4     \\nA prequel, set before the events of Army of ...   \n...                                                 ...   \n9994                                     \\nAdd a Plot\\n   \n9995                                     \\nAdd a Plot\\n   \n9996                                     \\nAdd a Plot\\n   \n9997                                     \\nAdd a Plot\\n   \n9998                                     \\nAdd a Plot\\n   \n\n                                                  STARS    VOTES  RunTime  \\\n0     \\n    Director:\\nPeter Thorwarth\\n| \\n    Star...   21,062    121.0   \n1     \\n            \\n    Stars:\\nChris Wood, \\nSara...   17,870     25.0   \n2     \\n            \\n    Stars:\\nAndrew Lincoln, \\n...  885,805     44.0   \n3     \\n            \\n    Stars:\\nJustin Roiland, \\n...  414,849     23.0   \n4     \\n    Director:\\nMatthias Schweighöfer\\n| \\n  ...        0      NaN   \n...                                                 ...      ...      ...   \n9994  \\n            \\n    Stars:\\nMorgan Taylor Camp...        0      NaN   \n9995                                                 \\n        0      NaN   \n9996  \\n    Director:\\nOrlando von Einsiedel\\n| \\n  ...        0      NaN   \n9997  \\n    Director:\\nJovanka Vuckovic\\n| \\n    Sta...        0      NaN   \n9998  \\n    Director:\\nJovanka Vuckovic\\n| \\n    Sta...        0      NaN   \n\n     Gross  \n0      NaN  \n1      NaN  \n2      NaN  \n3      NaN  \n4      NaN  \n...    ...  \n9994   NaN  \n9995   NaN  \n9996   NaN  \n9997   NaN  \n9998   NaN  \n\n[9999 rows x 9 columns]",
      "text/html": "<div>\n<style scoped>\n    .dataframe tbody tr th:only-of-type {\n        vertical-align: middle;\n    }\n\n    .dataframe tbody tr th {\n        vertical-align: top;\n    }\n\n    .dataframe thead th {\n        text-align: right;\n    }\n</style>\n<table border=\"1\" class=\"dataframe\">\n  <thead>\n    <tr style=\"text-align: right;\">\n      <th></th>\n      <th>MOVIES</th>\n      <th>YEAR</th>\n      <th>GENRE</th>\n      <th>RATING</th>\n      <th>ONE-LINE</th>\n      <th>STARS</th>\n      <th>VOTES</th>\n      <th>RunTime</th>\n      <th>Gross</th>\n    </tr>\n  </thead>\n  <tbody>\n    <tr>\n      <th>0</th>\n      <td>Blood Red Sky</td>\n      <td>(2021)</td>\n      <td>\\nAction, Horror, Thriller</td>\n      <td>6.1</td>\n      <td>\\nA woman with a mysterious illness is forced ...</td>\n      <td>\\n    Director:\\nPeter Thorwarth\\n| \\n    Star...</td>\n      <td>21,062</td>\n      <td>121.0</td>\n      <td>NaN</td>\n    </tr>\n    <tr>\n      <th>1</th>\n      <td>Masters of the Universe: Revelation</td>\n      <td>(2021– )</td>\n      <td>\\nAnimation, Action, Adventure</td>\n      <td>5.0</td>\n      <td>\\nThe war for Eternia begins again in what may...</td>\n      <td>\\n            \\n    Stars:\\nChris Wood, \\nSara...</td>\n      <td>17,870</td>\n      <td>25.0</td>\n      <td>NaN</td>\n    </tr>\n    <tr>\n      <th>2</th>\n      <td>The Walking Dead</td>\n      <td>(2010–2022)</td>\n      <td>\\nDrama, Horror, Thriller</td>\n      <td>8.2</td>\n      <td>\\nSheriff Deputy Rick Grimes wakes up from a c...</td>\n      <td>\\n            \\n    Stars:\\nAndrew Lincoln, \\n...</td>\n      <td>885,805</td>\n      <td>44.0</td>\n      <td>NaN</td>\n    </tr>\n    <tr>\n      <th>3</th>\n      <td>Rick and Morty</td>\n      <td>(2013– )</td>\n      <td>\\nAnimation, Adventure, Comedy</td>\n      <td>9.2</td>\n      <td>\\nAn animated series that follows the exploits...</td>\n      <td>\\n            \\n    Stars:\\nJustin Roiland, \\n...</td>\n      <td>414,849</td>\n      <td>23.0</td>\n      <td>NaN</td>\n    </tr>\n    <tr>\n      <th>4</th>\n      <td>Army of Thieves</td>\n      <td>(2021)</td>\n      <td>\\nAction, Crime, Horror</td>\n      <td>9</td>\n      <td>\\nA prequel, set before the events of Army of ...</td>\n      <td>\\n    Director:\\nMatthias Schweighöfer\\n| \\n  ...</td>\n      <td>0</td>\n      <td>NaN</td>\n      <td>NaN</td>\n    </tr>\n    <tr>\n      <th>...</th>\n      <td>...</td>\n      <td>...</td>\n      <td>...</td>\n      <td>...</td>\n      <td>...</td>\n      <td>...</td>\n      <td>...</td>\n      <td>...</td>\n      <td>...</td>\n    </tr>\n    <tr>\n      <th>9994</th>\n      <td>The Imperfects</td>\n      <td>(2021– )</td>\n      <td>\\nAdventure, Drama, Fantasy</td>\n      <td>9</td>\n      <td>\\nAdd a Plot\\n</td>\n      <td>\\n            \\n    Stars:\\nMorgan Taylor Camp...</td>\n      <td>0</td>\n      <td>NaN</td>\n      <td>NaN</td>\n    </tr>\n    <tr>\n      <th>9995</th>\n      <td>Arcane</td>\n      <td>(2021– )</td>\n      <td>\\nAnimation, Action, Adventure</td>\n      <td>9</td>\n      <td>\\nAdd a Plot\\n</td>\n      <td>\\n</td>\n      <td>0</td>\n      <td>NaN</td>\n      <td>NaN</td>\n    </tr>\n    <tr>\n      <th>9996</th>\n      <td>Heart of Invictus</td>\n      <td>(2022– )</td>\n      <td>\\nDocumentary, Sport</td>\n      <td>9</td>\n      <td>\\nAdd a Plot\\n</td>\n      <td>\\n    Director:\\nOrlando von Einsiedel\\n| \\n  ...</td>\n      <td>0</td>\n      <td>NaN</td>\n      <td>NaN</td>\n    </tr>\n    <tr>\n      <th>9997</th>\n      <td>The Imperfects</td>\n      <td>(2021– )</td>\n      <td>\\nAdventure, Drama, Fantasy</td>\n      <td>9</td>\n      <td>\\nAdd a Plot\\n</td>\n      <td>\\n    Director:\\nJovanka Vuckovic\\n| \\n    Sta...</td>\n      <td>0</td>\n      <td>NaN</td>\n      <td>NaN</td>\n    </tr>\n    <tr>\n      <th>9998</th>\n      <td>The Imperfects</td>\n      <td>(2021– )</td>\n      <td>\\nAdventure, Drama, Fantasy</td>\n      <td>9</td>\n      <td>\\nAdd a Plot\\n</td>\n      <td>\\n    Director:\\nJovanka Vuckovic\\n| \\n    Sta...</td>\n      <td>0</td>\n      <td>NaN</td>\n      <td>NaN</td>\n    </tr>\n  </tbody>\n</table>\n<p>9999 rows × 9 columns</p>\n</div>"
     },
     "execution_count": 4,
     "metadata": {},
     "output_type": "execute_result"
    }
   ],
   "source": [
    "#Filling different columns with different values\n",
    "\n",
    "dfc = df.fillna({'RATING':'9','VOTES':0})\n",
    "dfc"
   ]
  },
  {
   "cell_type": "code",
   "execution_count": 5,
   "id": "d9701f26",
   "metadata": {
    "execution": {
     "iopub.execute_input": "2022-12-08T10:04:54.314164Z",
     "iopub.status.busy": "2022-12-08T10:04:54.313779Z",
     "iopub.status.idle": "2022-12-08T10:04:54.337653Z",
     "shell.execute_reply": "2022-12-08T10:04:54.336798Z"
    },
    "papermill": {
     "duration": 0.031553,
     "end_time": "2022-12-08T10:04:54.339915",
     "exception": false,
     "start_time": "2022-12-08T10:04:54.308362",
     "status": "completed"
    },
    "tags": []
   },
   "outputs": [
    {
     "data": {
      "text/plain": "                                   MOVIES         YEAR  \\\n0                           Blood Red Sky       (2021)   \n1     Masters of the Universe: Revelation     (2021– )   \n2                        The Walking Dead  (2010–2022)   \n3                          Rick and Morty     (2013– )   \n4                         Army of Thieves       (2021)   \n...                                   ...          ...   \n9994                       The Imperfects     (2021– )   \n9995                               Arcane     (2021– )   \n9996                    Heart of Invictus     (2022– )   \n9997                       The Imperfects     (2021– )   \n9998                       The Imperfects     (2021– )   \n\n                                           GENRE    RATING  \\\n0         \\nAction, Horror, Thriller              6.100000   \n1     \\nAnimation, Action, Adventure              5.000000   \n2          \\nDrama, Horror, Thriller              8.200000   \n3     \\nAnimation, Adventure, Comedy              9.200000   \n4            \\nAction, Crime, Horror              6.921176   \n...                                          ...       ...   \n9994     \\nAdventure, Drama, Fantasy              6.921176   \n9995  \\nAnimation, Action, Adventure              6.921176   \n9996            \\nDocumentary, Sport              6.921176   \n9997     \\nAdventure, Drama, Fantasy              6.921176   \n9998     \\nAdventure, Drama, Fantasy              6.921176   \n\n                                               ONE-LINE  \\\n0     \\nA woman with a mysterious illness is forced ...   \n1     \\nThe war for Eternia begins again in what may...   \n2     \\nSheriff Deputy Rick Grimes wakes up from a c...   \n3     \\nAn animated series that follows the exploits...   \n4     \\nA prequel, set before the events of Army of ...   \n...                                                 ...   \n9994                                     \\nAdd a Plot\\n   \n9995                                     \\nAdd a Plot\\n   \n9996                                     \\nAdd a Plot\\n   \n9997                                     \\nAdd a Plot\\n   \n9998                                     \\nAdd a Plot\\n   \n\n                                                  STARS    VOTES  RunTime  \\\n0     \\n    Director:\\nPeter Thorwarth\\n| \\n    Star...   21,062    121.0   \n1     \\n            \\n    Stars:\\nChris Wood, \\nSara...   17,870     25.0   \n2     \\n            \\n    Stars:\\nAndrew Lincoln, \\n...  885,805     44.0   \n3     \\n            \\n    Stars:\\nJustin Roiland, \\n...  414,849     23.0   \n4     \\n    Director:\\nMatthias Schweighöfer\\n| \\n  ...      NaN      NaN   \n...                                                 ...      ...      ...   \n9994  \\n            \\n    Stars:\\nMorgan Taylor Camp...      NaN      NaN   \n9995                                                 \\n      NaN      NaN   \n9996  \\n    Director:\\nOrlando von Einsiedel\\n| \\n  ...      NaN      NaN   \n9997  \\n    Director:\\nJovanka Vuckovic\\n| \\n    Sta...      NaN      NaN   \n9998  \\n    Director:\\nJovanka Vuckovic\\n| \\n    Sta...      NaN      NaN   \n\n     Gross  \n0      NaN  \n1      NaN  \n2      NaN  \n3      NaN  \n4      NaN  \n...    ...  \n9994   NaN  \n9995   NaN  \n9996   NaN  \n9997   NaN  \n9998   NaN  \n\n[9999 rows x 9 columns]",
      "text/html": "<div>\n<style scoped>\n    .dataframe tbody tr th:only-of-type {\n        vertical-align: middle;\n    }\n\n    .dataframe tbody tr th {\n        vertical-align: top;\n    }\n\n    .dataframe thead th {\n        text-align: right;\n    }\n</style>\n<table border=\"1\" class=\"dataframe\">\n  <thead>\n    <tr style=\"text-align: right;\">\n      <th></th>\n      <th>MOVIES</th>\n      <th>YEAR</th>\n      <th>GENRE</th>\n      <th>RATING</th>\n      <th>ONE-LINE</th>\n      <th>STARS</th>\n      <th>VOTES</th>\n      <th>RunTime</th>\n      <th>Gross</th>\n    </tr>\n  </thead>\n  <tbody>\n    <tr>\n      <th>0</th>\n      <td>Blood Red Sky</td>\n      <td>(2021)</td>\n      <td>\\nAction, Horror, Thriller</td>\n      <td>6.100000</td>\n      <td>\\nA woman with a mysterious illness is forced ...</td>\n      <td>\\n    Director:\\nPeter Thorwarth\\n| \\n    Star...</td>\n      <td>21,062</td>\n      <td>121.0</td>\n      <td>NaN</td>\n    </tr>\n    <tr>\n      <th>1</th>\n      <td>Masters of the Universe: Revelation</td>\n      <td>(2021– )</td>\n      <td>\\nAnimation, Action, Adventure</td>\n      <td>5.000000</td>\n      <td>\\nThe war for Eternia begins again in what may...</td>\n      <td>\\n            \\n    Stars:\\nChris Wood, \\nSara...</td>\n      <td>17,870</td>\n      <td>25.0</td>\n      <td>NaN</td>\n    </tr>\n    <tr>\n      <th>2</th>\n      <td>The Walking Dead</td>\n      <td>(2010–2022)</td>\n      <td>\\nDrama, Horror, Thriller</td>\n      <td>8.200000</td>\n      <td>\\nSheriff Deputy Rick Grimes wakes up from a c...</td>\n      <td>\\n            \\n    Stars:\\nAndrew Lincoln, \\n...</td>\n      <td>885,805</td>\n      <td>44.0</td>\n      <td>NaN</td>\n    </tr>\n    <tr>\n      <th>3</th>\n      <td>Rick and Morty</td>\n      <td>(2013– )</td>\n      <td>\\nAnimation, Adventure, Comedy</td>\n      <td>9.200000</td>\n      <td>\\nAn animated series that follows the exploits...</td>\n      <td>\\n            \\n    Stars:\\nJustin Roiland, \\n...</td>\n      <td>414,849</td>\n      <td>23.0</td>\n      <td>NaN</td>\n    </tr>\n    <tr>\n      <th>4</th>\n      <td>Army of Thieves</td>\n      <td>(2021)</td>\n      <td>\\nAction, Crime, Horror</td>\n      <td>6.921176</td>\n      <td>\\nA prequel, set before the events of Army of ...</td>\n      <td>\\n    Director:\\nMatthias Schweighöfer\\n| \\n  ...</td>\n      <td>NaN</td>\n      <td>NaN</td>\n      <td>NaN</td>\n    </tr>\n    <tr>\n      <th>...</th>\n      <td>...</td>\n      <td>...</td>\n      <td>...</td>\n      <td>...</td>\n      <td>...</td>\n      <td>...</td>\n      <td>...</td>\n      <td>...</td>\n      <td>...</td>\n    </tr>\n    <tr>\n      <th>9994</th>\n      <td>The Imperfects</td>\n      <td>(2021– )</td>\n      <td>\\nAdventure, Drama, Fantasy</td>\n      <td>6.921176</td>\n      <td>\\nAdd a Plot\\n</td>\n      <td>\\n            \\n    Stars:\\nMorgan Taylor Camp...</td>\n      <td>NaN</td>\n      <td>NaN</td>\n      <td>NaN</td>\n    </tr>\n    <tr>\n      <th>9995</th>\n      <td>Arcane</td>\n      <td>(2021– )</td>\n      <td>\\nAnimation, Action, Adventure</td>\n      <td>6.921176</td>\n      <td>\\nAdd a Plot\\n</td>\n      <td>\\n</td>\n      <td>NaN</td>\n      <td>NaN</td>\n      <td>NaN</td>\n    </tr>\n    <tr>\n      <th>9996</th>\n      <td>Heart of Invictus</td>\n      <td>(2022– )</td>\n      <td>\\nDocumentary, Sport</td>\n      <td>6.921176</td>\n      <td>\\nAdd a Plot\\n</td>\n      <td>\\n    Director:\\nOrlando von Einsiedel\\n| \\n  ...</td>\n      <td>NaN</td>\n      <td>NaN</td>\n      <td>NaN</td>\n    </tr>\n    <tr>\n      <th>9997</th>\n      <td>The Imperfects</td>\n      <td>(2021– )</td>\n      <td>\\nAdventure, Drama, Fantasy</td>\n      <td>6.921176</td>\n      <td>\\nAdd a Plot\\n</td>\n      <td>\\n    Director:\\nJovanka Vuckovic\\n| \\n    Sta...</td>\n      <td>NaN</td>\n      <td>NaN</td>\n      <td>NaN</td>\n    </tr>\n    <tr>\n      <th>9998</th>\n      <td>The Imperfects</td>\n      <td>(2021– )</td>\n      <td>\\nAdventure, Drama, Fantasy</td>\n      <td>6.921176</td>\n      <td>\\nAdd a Plot\\n</td>\n      <td>\\n    Director:\\nJovanka Vuckovic\\n| \\n    Sta...</td>\n      <td>NaN</td>\n      <td>NaN</td>\n      <td>NaN</td>\n    </tr>\n  </tbody>\n</table>\n<p>9999 rows × 9 columns</p>\n</div>"
     },
     "execution_count": 5,
     "metadata": {},
     "output_type": "execute_result"
    }
   ],
   "source": [
    "#Fill with mean in null values\n",
    "\n",
    "df1 = df.fillna({'RATING': df['RATING'].mean()})\n",
    "df1\n"
   ]
  },
  {
   "cell_type": "code",
   "execution_count": 6,
   "id": "9fa9c83d",
   "metadata": {
    "execution": {
     "iopub.execute_input": "2022-12-08T10:04:54.351541Z",
     "iopub.status.busy": "2022-12-08T10:04:54.350526Z",
     "iopub.status.idle": "2022-12-08T10:04:54.381698Z",
     "shell.execute_reply": "2022-12-08T10:04:54.380506Z"
    },
    "papermill": {
     "duration": 0.039531,
     "end_time": "2022-12-08T10:04:54.384075",
     "exception": false,
     "start_time": "2022-12-08T10:04:54.344544",
     "status": "completed"
    },
    "tags": []
   },
   "outputs": [
    {
     "data": {
      "text/plain": "                                   MOVIES         YEAR  \\\n0                           Blood Red Sky       (2021)   \n1     Masters of the Universe: Revelation     (2021– )   \n2                        The Walking Dead  (2010–2022)   \n3                          Rick and Morty     (2013– )   \n4                         Army of Thieves       (2021)   \n...                                   ...          ...   \n9994                       The Imperfects     (2021– )   \n9995                               Arcane     (2021– )   \n9996                    Heart of Invictus     (2022– )   \n9997                       The Imperfects     (2021– )   \n9998                       The Imperfects     (2021– )   \n\n                                           GENRE  RATING  \\\n0         \\nAction, Horror, Thriller                 6.1   \n1     \\nAnimation, Action, Adventure                 5.0   \n2          \\nDrama, Horror, Thriller                 8.2   \n3     \\nAnimation, Adventure, Comedy                 9.2   \n4            \\nAction, Crime, Horror                 9.9   \n...                                          ...     ...   \n9994     \\nAdventure, Drama, Fantasy                 9.9   \n9995  \\nAnimation, Action, Adventure                 9.9   \n9996            \\nDocumentary, Sport                 9.9   \n9997     \\nAdventure, Drama, Fantasy                 9.9   \n9998     \\nAdventure, Drama, Fantasy                 9.9   \n\n                                               ONE-LINE  \\\n0     \\nA woman with a mysterious illness is forced ...   \n1     \\nThe war for Eternia begins again in what may...   \n2     \\nSheriff Deputy Rick Grimes wakes up from a c...   \n3     \\nAn animated series that follows the exploits...   \n4     \\nA prequel, set before the events of Army of ...   \n...                                                 ...   \n9994                                     \\nAdd a Plot\\n   \n9995                                     \\nAdd a Plot\\n   \n9996                                     \\nAdd a Plot\\n   \n9997                                     \\nAdd a Plot\\n   \n9998                                     \\nAdd a Plot\\n   \n\n                                                  STARS    VOTES  RunTime  \\\n0     \\n    Director:\\nPeter Thorwarth\\n| \\n    Star...   21,062    121.0   \n1     \\n            \\n    Stars:\\nChris Wood, \\nSara...   17,870     25.0   \n2     \\n            \\n    Stars:\\nAndrew Lincoln, \\n...  885,805     44.0   \n3     \\n            \\n    Stars:\\nJustin Roiland, \\n...  414,849     23.0   \n4     \\n    Director:\\nMatthias Schweighöfer\\n| \\n  ...      9.9      9.9   \n...                                                 ...      ...      ...   \n9994  \\n            \\n    Stars:\\nMorgan Taylor Camp...      9.9      9.9   \n9995                                                 \\n      9.9      9.9   \n9996  \\n    Director:\\nOrlando von Einsiedel\\n| \\n  ...      9.9      9.9   \n9997  \\n    Director:\\nJovanka Vuckovic\\n| \\n    Sta...      9.9      9.9   \n9998  \\n    Director:\\nJovanka Vuckovic\\n| \\n    Sta...      9.9      9.9   \n\n     Gross  \n0      9.9  \n1      9.9  \n2      9.9  \n3      9.9  \n4      9.9  \n...    ...  \n9994   9.9  \n9995   9.9  \n9996   9.9  \n9997   9.9  \n9998   9.9  \n\n[9999 rows x 9 columns]",
      "text/html": "<div>\n<style scoped>\n    .dataframe tbody tr th:only-of-type {\n        vertical-align: middle;\n    }\n\n    .dataframe tbody tr th {\n        vertical-align: top;\n    }\n\n    .dataframe thead th {\n        text-align: right;\n    }\n</style>\n<table border=\"1\" class=\"dataframe\">\n  <thead>\n    <tr style=\"text-align: right;\">\n      <th></th>\n      <th>MOVIES</th>\n      <th>YEAR</th>\n      <th>GENRE</th>\n      <th>RATING</th>\n      <th>ONE-LINE</th>\n      <th>STARS</th>\n      <th>VOTES</th>\n      <th>RunTime</th>\n      <th>Gross</th>\n    </tr>\n  </thead>\n  <tbody>\n    <tr>\n      <th>0</th>\n      <td>Blood Red Sky</td>\n      <td>(2021)</td>\n      <td>\\nAction, Horror, Thriller</td>\n      <td>6.1</td>\n      <td>\\nA woman with a mysterious illness is forced ...</td>\n      <td>\\n    Director:\\nPeter Thorwarth\\n| \\n    Star...</td>\n      <td>21,062</td>\n      <td>121.0</td>\n      <td>9.9</td>\n    </tr>\n    <tr>\n      <th>1</th>\n      <td>Masters of the Universe: Revelation</td>\n      <td>(2021– )</td>\n      <td>\\nAnimation, Action, Adventure</td>\n      <td>5.0</td>\n      <td>\\nThe war for Eternia begins again in what may...</td>\n      <td>\\n            \\n    Stars:\\nChris Wood, \\nSara...</td>\n      <td>17,870</td>\n      <td>25.0</td>\n      <td>9.9</td>\n    </tr>\n    <tr>\n      <th>2</th>\n      <td>The Walking Dead</td>\n      <td>(2010–2022)</td>\n      <td>\\nDrama, Horror, Thriller</td>\n      <td>8.2</td>\n      <td>\\nSheriff Deputy Rick Grimes wakes up from a c...</td>\n      <td>\\n            \\n    Stars:\\nAndrew Lincoln, \\n...</td>\n      <td>885,805</td>\n      <td>44.0</td>\n      <td>9.9</td>\n    </tr>\n    <tr>\n      <th>3</th>\n      <td>Rick and Morty</td>\n      <td>(2013– )</td>\n      <td>\\nAnimation, Adventure, Comedy</td>\n      <td>9.2</td>\n      <td>\\nAn animated series that follows the exploits...</td>\n      <td>\\n            \\n    Stars:\\nJustin Roiland, \\n...</td>\n      <td>414,849</td>\n      <td>23.0</td>\n      <td>9.9</td>\n    </tr>\n    <tr>\n      <th>4</th>\n      <td>Army of Thieves</td>\n      <td>(2021)</td>\n      <td>\\nAction, Crime, Horror</td>\n      <td>9.9</td>\n      <td>\\nA prequel, set before the events of Army of ...</td>\n      <td>\\n    Director:\\nMatthias Schweighöfer\\n| \\n  ...</td>\n      <td>9.9</td>\n      <td>9.9</td>\n      <td>9.9</td>\n    </tr>\n    <tr>\n      <th>...</th>\n      <td>...</td>\n      <td>...</td>\n      <td>...</td>\n      <td>...</td>\n      <td>...</td>\n      <td>...</td>\n      <td>...</td>\n      <td>...</td>\n      <td>...</td>\n    </tr>\n    <tr>\n      <th>9994</th>\n      <td>The Imperfects</td>\n      <td>(2021– )</td>\n      <td>\\nAdventure, Drama, Fantasy</td>\n      <td>9.9</td>\n      <td>\\nAdd a Plot\\n</td>\n      <td>\\n            \\n    Stars:\\nMorgan Taylor Camp...</td>\n      <td>9.9</td>\n      <td>9.9</td>\n      <td>9.9</td>\n    </tr>\n    <tr>\n      <th>9995</th>\n      <td>Arcane</td>\n      <td>(2021– )</td>\n      <td>\\nAnimation, Action, Adventure</td>\n      <td>9.9</td>\n      <td>\\nAdd a Plot\\n</td>\n      <td>\\n</td>\n      <td>9.9</td>\n      <td>9.9</td>\n      <td>9.9</td>\n    </tr>\n    <tr>\n      <th>9996</th>\n      <td>Heart of Invictus</td>\n      <td>(2022– )</td>\n      <td>\\nDocumentary, Sport</td>\n      <td>9.9</td>\n      <td>\\nAdd a Plot\\n</td>\n      <td>\\n    Director:\\nOrlando von Einsiedel\\n| \\n  ...</td>\n      <td>9.9</td>\n      <td>9.9</td>\n      <td>9.9</td>\n    </tr>\n    <tr>\n      <th>9997</th>\n      <td>The Imperfects</td>\n      <td>(2021– )</td>\n      <td>\\nAdventure, Drama, Fantasy</td>\n      <td>9.9</td>\n      <td>\\nAdd a Plot\\n</td>\n      <td>\\n    Director:\\nJovanka Vuckovic\\n| \\n    Sta...</td>\n      <td>9.9</td>\n      <td>9.9</td>\n      <td>9.9</td>\n    </tr>\n    <tr>\n      <th>9998</th>\n      <td>The Imperfects</td>\n      <td>(2021– )</td>\n      <td>\\nAdventure, Drama, Fantasy</td>\n      <td>9.9</td>\n      <td>\\nAdd a Plot\\n</td>\n      <td>\\n    Director:\\nJovanka Vuckovic\\n| \\n    Sta...</td>\n      <td>9.9</td>\n      <td>9.9</td>\n      <td>9.9</td>\n    </tr>\n  </tbody>\n</table>\n<p>9999 rows × 9 columns</p>\n</div>"
     },
     "execution_count": 6,
     "metadata": {},
     "output_type": "execute_result"
    }
   ],
   "source": [
    "#Fill null values with max values of column\n",
    "\n",
    "df2 = df.fillna(df['RATING'].max())\n",
    "df2"
   ]
  },
  {
   "cell_type": "code",
   "execution_count": 7,
   "id": "a55387c1",
   "metadata": {
    "execution": {
     "iopub.execute_input": "2022-12-08T10:04:54.396104Z",
     "iopub.status.busy": "2022-12-08T10:04:54.395684Z",
     "iopub.status.idle": "2022-12-08T10:04:54.410448Z",
     "shell.execute_reply": "2022-12-08T10:04:54.409284Z"
    },
    "papermill": {
     "duration": 0.023655,
     "end_time": "2022-12-08T10:04:54.413211",
     "exception": false,
     "start_time": "2022-12-08T10:04:54.389556",
     "status": "completed"
    },
    "tags": []
   },
   "outputs": [
    {
     "data": {
      "text/plain": "0       6.1\n1       5.0\n2       8.2\n3       9.2\n4       8.4\n       ... \n9994    8.8\n9995    8.8\n9996    8.8\n9997    8.8\n9998    8.8\nName: RATING, Length: 9999, dtype: float64"
     },
     "execution_count": 7,
     "metadata": {},
     "output_type": "execute_result"
    }
   ],
   "source": [
    "#Interpolation\n",
    "\n",
    "dfInterpolated = df['RATING'].interpolate(method='linear')\n",
    "dfInterpolated"
   ]
  },
  {
   "cell_type": "code",
   "execution_count": 8,
   "outputs": [
    {
     "data": {
      "text/plain": "                                   MOVIES         YEAR  \\\n0                           Blood Red Sky       (2021)   \n1     Masters of the Universe: Revelation     (2021– )   \n2                        The Walking Dead  (2010–2022)   \n3                          Rick and Morty     (2013– )   \n4                         Army of Thieves       (2021)   \n...                                   ...          ...   \n9994                       The Imperfects     (2021– )   \n9995                               Arcane     (2021– )   \n9996                    Heart of Invictus     (2022– )   \n9997                       The Imperfects     (2021– )   \n9998                       The Imperfects     (2021– )   \n\n                                         GENRE  RATING  \\\n0         Action, Horror, Thriller                 6.1   \n1     Animation, Action, Adventure                 5.0   \n2          Drama, Horror, Thriller                 8.2   \n3     Animation, Adventure, Comedy                 9.2   \n4            Action, Crime, Horror                 NaN   \n...                                        ...     ...   \n9994     Adventure, Drama, Fantasy                 NaN   \n9995  Animation, Action, Adventure                 NaN   \n9996            Documentary, Sport                 NaN   \n9997     Adventure, Drama, Fantasy                 NaN   \n9998     Adventure, Drama, Fantasy                 NaN   \n\n                                               ONE-LINE  \\\n0     A woman with a mysterious illness is forced in...   \n1     The war for Eternia begins again in what may b...   \n2     Sheriff Deputy Rick Grimes wakes up from a com...   \n3     An animated series that follows the exploits o...   \n4     A prequel, set before the events of Army of th...   \n...                                                 ...   \n9994                                         Add a Plot   \n9995                                         Add a Plot   \n9996                                         Add a Plot   \n9997                                         Add a Plot   \n9998                                         Add a Plot   \n\n                                                  STARS    VOTES  RunTime  \\\n0     \\n    Director:\\nPeter Thorwarth\\n| \\n    Star...   21,062    121.0   \n1     \\n            \\n    Stars:\\nChris Wood, \\nSara...   17,870     25.0   \n2     \\n            \\n    Stars:\\nAndrew Lincoln, \\n...  885,805     44.0   \n3     \\n            \\n    Stars:\\nJustin Roiland, \\n...  414,849     23.0   \n4     \\n    Director:\\nMatthias Schweighöfer\\n| \\n  ...      NaN      NaN   \n...                                                 ...      ...      ...   \n9994  \\n            \\n    Stars:\\nMorgan Taylor Camp...      NaN      NaN   \n9995                                                 \\n      NaN      NaN   \n9996  \\n    Director:\\nOrlando von Einsiedel\\n| \\n  ...      NaN      NaN   \n9997  \\n    Director:\\nJovanka Vuckovic\\n| \\n    Sta...      NaN      NaN   \n9998  \\n    Director:\\nJovanka Vuckovic\\n| \\n    Sta...      NaN      NaN   \n\n     Gross  \n0      NaN  \n1      NaN  \n2      NaN  \n3      NaN  \n4      NaN  \n...    ...  \n9994   NaN  \n9995   NaN  \n9996   NaN  \n9997   NaN  \n9998   NaN  \n\n[9999 rows x 9 columns]",
      "text/html": "<div>\n<style scoped>\n    .dataframe tbody tr th:only-of-type {\n        vertical-align: middle;\n    }\n\n    .dataframe tbody tr th {\n        vertical-align: top;\n    }\n\n    .dataframe thead th {\n        text-align: right;\n    }\n</style>\n<table border=\"1\" class=\"dataframe\">\n  <thead>\n    <tr style=\"text-align: right;\">\n      <th></th>\n      <th>MOVIES</th>\n      <th>YEAR</th>\n      <th>GENRE</th>\n      <th>RATING</th>\n      <th>ONE-LINE</th>\n      <th>STARS</th>\n      <th>VOTES</th>\n      <th>RunTime</th>\n      <th>Gross</th>\n    </tr>\n  </thead>\n  <tbody>\n    <tr>\n      <th>0</th>\n      <td>Blood Red Sky</td>\n      <td>(2021)</td>\n      <td>Action, Horror, Thriller</td>\n      <td>6.1</td>\n      <td>A woman with a mysterious illness is forced in...</td>\n      <td>\\n    Director:\\nPeter Thorwarth\\n| \\n    Star...</td>\n      <td>21,062</td>\n      <td>121.0</td>\n      <td>NaN</td>\n    </tr>\n    <tr>\n      <th>1</th>\n      <td>Masters of the Universe: Revelation</td>\n      <td>(2021– )</td>\n      <td>Animation, Action, Adventure</td>\n      <td>5.0</td>\n      <td>The war for Eternia begins again in what may b...</td>\n      <td>\\n            \\n    Stars:\\nChris Wood, \\nSara...</td>\n      <td>17,870</td>\n      <td>25.0</td>\n      <td>NaN</td>\n    </tr>\n    <tr>\n      <th>2</th>\n      <td>The Walking Dead</td>\n      <td>(2010–2022)</td>\n      <td>Drama, Horror, Thriller</td>\n      <td>8.2</td>\n      <td>Sheriff Deputy Rick Grimes wakes up from a com...</td>\n      <td>\\n            \\n    Stars:\\nAndrew Lincoln, \\n...</td>\n      <td>885,805</td>\n      <td>44.0</td>\n      <td>NaN</td>\n    </tr>\n    <tr>\n      <th>3</th>\n      <td>Rick and Morty</td>\n      <td>(2013– )</td>\n      <td>Animation, Adventure, Comedy</td>\n      <td>9.2</td>\n      <td>An animated series that follows the exploits o...</td>\n      <td>\\n            \\n    Stars:\\nJustin Roiland, \\n...</td>\n      <td>414,849</td>\n      <td>23.0</td>\n      <td>NaN</td>\n    </tr>\n    <tr>\n      <th>4</th>\n      <td>Army of Thieves</td>\n      <td>(2021)</td>\n      <td>Action, Crime, Horror</td>\n      <td>NaN</td>\n      <td>A prequel, set before the events of Army of th...</td>\n      <td>\\n    Director:\\nMatthias Schweighöfer\\n| \\n  ...</td>\n      <td>NaN</td>\n      <td>NaN</td>\n      <td>NaN</td>\n    </tr>\n    <tr>\n      <th>...</th>\n      <td>...</td>\n      <td>...</td>\n      <td>...</td>\n      <td>...</td>\n      <td>...</td>\n      <td>...</td>\n      <td>...</td>\n      <td>...</td>\n      <td>...</td>\n    </tr>\n    <tr>\n      <th>9994</th>\n      <td>The Imperfects</td>\n      <td>(2021– )</td>\n      <td>Adventure, Drama, Fantasy</td>\n      <td>NaN</td>\n      <td>Add a Plot</td>\n      <td>\\n            \\n    Stars:\\nMorgan Taylor Camp...</td>\n      <td>NaN</td>\n      <td>NaN</td>\n      <td>NaN</td>\n    </tr>\n    <tr>\n      <th>9995</th>\n      <td>Arcane</td>\n      <td>(2021– )</td>\n      <td>Animation, Action, Adventure</td>\n      <td>NaN</td>\n      <td>Add a Plot</td>\n      <td>\\n</td>\n      <td>NaN</td>\n      <td>NaN</td>\n      <td>NaN</td>\n    </tr>\n    <tr>\n      <th>9996</th>\n      <td>Heart of Invictus</td>\n      <td>(2022– )</td>\n      <td>Documentary, Sport</td>\n      <td>NaN</td>\n      <td>Add a Plot</td>\n      <td>\\n    Director:\\nOrlando von Einsiedel\\n| \\n  ...</td>\n      <td>NaN</td>\n      <td>NaN</td>\n      <td>NaN</td>\n    </tr>\n    <tr>\n      <th>9997</th>\n      <td>The Imperfects</td>\n      <td>(2021– )</td>\n      <td>Adventure, Drama, Fantasy</td>\n      <td>NaN</td>\n      <td>Add a Plot</td>\n      <td>\\n    Director:\\nJovanka Vuckovic\\n| \\n    Sta...</td>\n      <td>NaN</td>\n      <td>NaN</td>\n      <td>NaN</td>\n    </tr>\n    <tr>\n      <th>9998</th>\n      <td>The Imperfects</td>\n      <td>(2021– )</td>\n      <td>Adventure, Drama, Fantasy</td>\n      <td>NaN</td>\n      <td>Add a Plot</td>\n      <td>\\n    Director:\\nJovanka Vuckovic\\n| \\n    Sta...</td>\n      <td>NaN</td>\n      <td>NaN</td>\n      <td>NaN</td>\n    </tr>\n  </tbody>\n</table>\n<p>9999 rows × 9 columns</p>\n</div>"
     },
     "execution_count": 8,
     "metadata": {},
     "output_type": "execute_result"
    }
   ],
   "source": [
    "# Trim \\n from genre and one-line column\n",
    "df['GENRE'] = df['GENRE'].str.strip('\\n')\n",
    "df['ONE-LINE'] = df['ONE-LINE'].str.strip('\\n')\n",
    "df"
   ],
   "metadata": {
    "collapsed": false,
    "pycharm": {
     "name": "#%%\n"
    }
   }
  },
  {
   "cell_type": "code",
   "execution_count": 9,
   "outputs": [
    {
     "data": {
      "text/plain": "                                   MOVIES         YEAR  \\\n0                           Blood Red Sky       (2021)   \n1     Masters of the Universe: Revelation     (2021– )   \n2                        The Walking Dead  (2010–2022)   \n3                          Rick and Morty     (2013– )   \n4                         Army of Thieves       (2021)   \n...                                   ...          ...   \n9994                       The Imperfects     (2021– )   \n9995                               Arcane     (2021– )   \n9996                    Heart of Invictus     (2022– )   \n9997                       The Imperfects     (2021– )   \n9998                       The Imperfects     (2021– )   \n\n                                         GENRE    RATING  \\\n0         Action, Horror, Thriller              0.568182   \n1     Animation, Action, Adventure              0.443182   \n2          Drama, Horror, Thriller              0.806818   \n3     Animation, Adventure, Comedy              0.920455   \n4            Action, Crime, Horror              0.661497   \n...                                        ...       ...   \n9994     Adventure, Drama, Fantasy              0.661497   \n9995  Animation, Action, Adventure              0.661497   \n9996            Documentary, Sport              0.661497   \n9997     Adventure, Drama, Fantasy              0.661497   \n9998     Adventure, Drama, Fantasy              0.661497   \n\n                                               ONE-LINE  \\\n0     A woman with a mysterious illness is forced in...   \n1     The war for Eternia begins again in what may b...   \n2     Sheriff Deputy Rick Grimes wakes up from a com...   \n3     An animated series that follows the exploits o...   \n4     A prequel, set before the events of Army of th...   \n...                                                 ...   \n9994                                         Add a Plot   \n9995                                         Add a Plot   \n9996                                         Add a Plot   \n9997                                         Add a Plot   \n9998                                         Add a Plot   \n\n                                                  STARS    VOTES  RunTime  \\\n0     \\n    Director:\\nPeter Thorwarth\\n| \\n    Star...   21,062    121.0   \n1     \\n            \\n    Stars:\\nChris Wood, \\nSara...   17,870     25.0   \n2     \\n            \\n    Stars:\\nAndrew Lincoln, \\n...  885,805     44.0   \n3     \\n            \\n    Stars:\\nJustin Roiland, \\n...  414,849     23.0   \n4     \\n    Director:\\nMatthias Schweighöfer\\n| \\n  ...      NaN      NaN   \n...                                                 ...      ...      ...   \n9994  \\n            \\n    Stars:\\nMorgan Taylor Camp...      NaN      NaN   \n9995                                                 \\n      NaN      NaN   \n9996  \\n    Director:\\nOrlando von Einsiedel\\n| \\n  ...      NaN      NaN   \n9997  \\n    Director:\\nJovanka Vuckovic\\n| \\n    Sta...      NaN      NaN   \n9998  \\n    Director:\\nJovanka Vuckovic\\n| \\n    Sta...      NaN      NaN   \n\n     Gross  \n0      NaN  \n1      NaN  \n2      NaN  \n3      NaN  \n4      NaN  \n...    ...  \n9994   NaN  \n9995   NaN  \n9996   NaN  \n9997   NaN  \n9998   NaN  \n\n[9999 rows x 9 columns]",
      "text/html": "<div>\n<style scoped>\n    .dataframe tbody tr th:only-of-type {\n        vertical-align: middle;\n    }\n\n    .dataframe tbody tr th {\n        vertical-align: top;\n    }\n\n    .dataframe thead th {\n        text-align: right;\n    }\n</style>\n<table border=\"1\" class=\"dataframe\">\n  <thead>\n    <tr style=\"text-align: right;\">\n      <th></th>\n      <th>MOVIES</th>\n      <th>YEAR</th>\n      <th>GENRE</th>\n      <th>RATING</th>\n      <th>ONE-LINE</th>\n      <th>STARS</th>\n      <th>VOTES</th>\n      <th>RunTime</th>\n      <th>Gross</th>\n    </tr>\n  </thead>\n  <tbody>\n    <tr>\n      <th>0</th>\n      <td>Blood Red Sky</td>\n      <td>(2021)</td>\n      <td>Action, Horror, Thriller</td>\n      <td>0.568182</td>\n      <td>A woman with a mysterious illness is forced in...</td>\n      <td>\\n    Director:\\nPeter Thorwarth\\n| \\n    Star...</td>\n      <td>21,062</td>\n      <td>121.0</td>\n      <td>NaN</td>\n    </tr>\n    <tr>\n      <th>1</th>\n      <td>Masters of the Universe: Revelation</td>\n      <td>(2021– )</td>\n      <td>Animation, Action, Adventure</td>\n      <td>0.443182</td>\n      <td>The war for Eternia begins again in what may b...</td>\n      <td>\\n            \\n    Stars:\\nChris Wood, \\nSara...</td>\n      <td>17,870</td>\n      <td>25.0</td>\n      <td>NaN</td>\n    </tr>\n    <tr>\n      <th>2</th>\n      <td>The Walking Dead</td>\n      <td>(2010–2022)</td>\n      <td>Drama, Horror, Thriller</td>\n      <td>0.806818</td>\n      <td>Sheriff Deputy Rick Grimes wakes up from a com...</td>\n      <td>\\n            \\n    Stars:\\nAndrew Lincoln, \\n...</td>\n      <td>885,805</td>\n      <td>44.0</td>\n      <td>NaN</td>\n    </tr>\n    <tr>\n      <th>3</th>\n      <td>Rick and Morty</td>\n      <td>(2013– )</td>\n      <td>Animation, Adventure, Comedy</td>\n      <td>0.920455</td>\n      <td>An animated series that follows the exploits o...</td>\n      <td>\\n            \\n    Stars:\\nJustin Roiland, \\n...</td>\n      <td>414,849</td>\n      <td>23.0</td>\n      <td>NaN</td>\n    </tr>\n    <tr>\n      <th>4</th>\n      <td>Army of Thieves</td>\n      <td>(2021)</td>\n      <td>Action, Crime, Horror</td>\n      <td>0.661497</td>\n      <td>A prequel, set before the events of Army of th...</td>\n      <td>\\n    Director:\\nMatthias Schweighöfer\\n| \\n  ...</td>\n      <td>NaN</td>\n      <td>NaN</td>\n      <td>NaN</td>\n    </tr>\n    <tr>\n      <th>...</th>\n      <td>...</td>\n      <td>...</td>\n      <td>...</td>\n      <td>...</td>\n      <td>...</td>\n      <td>...</td>\n      <td>...</td>\n      <td>...</td>\n      <td>...</td>\n    </tr>\n    <tr>\n      <th>9994</th>\n      <td>The Imperfects</td>\n      <td>(2021– )</td>\n      <td>Adventure, Drama, Fantasy</td>\n      <td>0.661497</td>\n      <td>Add a Plot</td>\n      <td>\\n            \\n    Stars:\\nMorgan Taylor Camp...</td>\n      <td>NaN</td>\n      <td>NaN</td>\n      <td>NaN</td>\n    </tr>\n    <tr>\n      <th>9995</th>\n      <td>Arcane</td>\n      <td>(2021– )</td>\n      <td>Animation, Action, Adventure</td>\n      <td>0.661497</td>\n      <td>Add a Plot</td>\n      <td>\\n</td>\n      <td>NaN</td>\n      <td>NaN</td>\n      <td>NaN</td>\n    </tr>\n    <tr>\n      <th>9996</th>\n      <td>Heart of Invictus</td>\n      <td>(2022– )</td>\n      <td>Documentary, Sport</td>\n      <td>0.661497</td>\n      <td>Add a Plot</td>\n      <td>\\n    Director:\\nOrlando von Einsiedel\\n| \\n  ...</td>\n      <td>NaN</td>\n      <td>NaN</td>\n      <td>NaN</td>\n    </tr>\n    <tr>\n      <th>9997</th>\n      <td>The Imperfects</td>\n      <td>(2021– )</td>\n      <td>Adventure, Drama, Fantasy</td>\n      <td>0.661497</td>\n      <td>Add a Plot</td>\n      <td>\\n    Director:\\nJovanka Vuckovic\\n| \\n    Sta...</td>\n      <td>NaN</td>\n      <td>NaN</td>\n      <td>NaN</td>\n    </tr>\n    <tr>\n      <th>9998</th>\n      <td>The Imperfects</td>\n      <td>(2021– )</td>\n      <td>Adventure, Drama, Fantasy</td>\n      <td>0.661497</td>\n      <td>Add a Plot</td>\n      <td>\\n    Director:\\nJovanka Vuckovic\\n| \\n    Sta...</td>\n      <td>NaN</td>\n      <td>NaN</td>\n      <td>NaN</td>\n    </tr>\n  </tbody>\n</table>\n<p>9999 rows × 9 columns</p>\n</div>"
     },
     "execution_count": 9,
     "metadata": {},
     "output_type": "execute_result"
    }
   ],
   "source": [
    "# Normalise RATING using min max normalisation\n",
    "# First we will fill all null cells in RATING with the mean of the column\n",
    "# This will convert the rating to a range of [0, 1]\n",
    "df_norm = df.fillna({'RATING': df['RATING'].mean()})\n",
    "df_norm['RATING'] = (df_norm['RATING'] - df_norm['RATING'].min()) / (df_norm['RATING'].max() - df_norm['RATING'].min())\n",
    "df_norm"
   ],
   "metadata": {
    "collapsed": false,
    "pycharm": {
     "name": "#%%\n"
    }
   }
  },
  {
   "cell_type": "code",
   "execution_count": 9,
   "outputs": [],
   "source": [],
   "metadata": {
    "collapsed": false,
    "pycharm": {
     "name": "#%%\n"
    }
   }
  }
 ],
 "metadata": {
  "kernelspec": {
   "display_name": "Python 3",
   "language": "python",
   "name": "python3"
  },
  "language_info": {
   "codemirror_mode": {
    "name": "ipython",
    "version": 3
   },
   "file_extension": ".py",
   "mimetype": "text/x-python",
   "name": "python",
   "nbconvert_exporter": "python",
   "pygments_lexer": "ipython3",
   "version": "3.7.12"
  },
  "papermill": {
   "default_parameters": {},
   "duration": 10.175175,
   "end_time": "2022-12-08T10:04:55.140674",
   "environment_variables": {},
   "exception": null,
   "input_path": "__notebook__.ipynb",
   "output_path": "__notebook__.ipynb",
   "parameters": {},
   "start_time": "2022-12-08T10:04:44.965499",
   "version": "2.3.4"
  }
 },
 "nbformat": 4,
 "nbformat_minor": 5
}